{
 "cells": [
  {
   "cell_type": "code",
   "execution_count": 21,
   "metadata": {},
   "outputs": [
    {
     "name": "stderr",
     "output_type": "stream",
     "text": [
      "<ipython-input-21-b075215ce96c>:18: DeprecationWarning: executable_path has been deprecated, please pass in a Service object\n",
      "  driver = webdriver.Chrome(executable_path=driver_path)\n"
     ]
    },
    {
     "ename": "NoSuchElementException",
     "evalue": "Message: no such element: Unable to locate element: {\"method\":\"css selector\",\"selector\":\".terms-and-conditions__btn btn btn-success\"}\n  (Session info: chrome=102.0.5005.61)\nStacktrace:\n0   chromedriver_102                    0x0000000105d74d19 chromedriver_102 + 5197081\n1   chromedriver_102                    0x0000000105d02b23 chromedriver_102 + 4729635\n2   chromedriver_102                    0x00000001058e02b8 chromedriver_102 + 393912\n3   chromedriver_102                    0x00000001059152fd chromedriver_102 + 611069\n4   chromedriver_102                    0x0000000105915581 chromedriver_102 + 611713\n5   chromedriver_102                    0x00000001059475a4 chromedriver_102 + 816548\n6   chromedriver_102                    0x000000010593282d chromedriver_102 + 731181\n7   chromedriver_102                    0x00000001059452a1 chromedriver_102 + 807585\n8   chromedriver_102                    0x00000001059326f3 chromedriver_102 + 730867\n9   chromedriver_102                    0x0000000105908a49 chromedriver_102 + 559689\n10  chromedriver_102                    0x0000000105909a75 chromedriver_102 + 563829\n11  chromedriver_102                    0x0000000105d46bdd chromedriver_102 + 5008349\n12  chromedriver_102                    0x0000000105d4bb64 chromedriver_102 + 5028708\n13  chromedriver_102                    0x0000000105d50bcf chromedriver_102 + 5049295\n14  chromedriver_102                    0x0000000105d4c7ca chromedriver_102 + 5031882\n15  chromedriver_102                    0x0000000105d2659f chromedriver_102 + 4875679\n16  chromedriver_102                    0x0000000105d66388 chromedriver_102 + 5137288\n17  chromedriver_102                    0x0000000105d6650f chromedriver_102 + 5137679\n18  chromedriver_102                    0x0000000105d7c085 chromedriver_102 + 5226629\n19  libsystem_pthread.dylib             0x00007ff8004504e1 _pthread_start + 125\n20  libsystem_pthread.dylib             0x00007ff80044bf6b thread_start + 15\n",
     "output_type": "error",
     "traceback": [
      "\u001b[0;31m---------------------------------------------------------------------------\u001b[0m",
      "\u001b[0;31mNoSuchElementException\u001b[0m                    Traceback (most recent call last)",
      "\u001b[0;32m<ipython-input-21-b075215ce96c>\u001b[0m in \u001b[0;36m<module>\u001b[0;34m\u001b[0m\n\u001b[1;32m     21\u001b[0m \u001b[0mdriver\u001b[0m\u001b[0;34m.\u001b[0m\u001b[0mimplicitly_wait\u001b[0m\u001b[0;34m(\u001b[0m\u001b[0mtime_to_wait\u001b[0m\u001b[0;34m=\u001b[0m\u001b[0;36m5\u001b[0m\u001b[0;34m)\u001b[0m \u001b[0;31m# wait for loading\u001b[0m\u001b[0;34m\u001b[0m\u001b[0;34m\u001b[0m\u001b[0m\n\u001b[1;32m     22\u001b[0m \u001b[0;34m\u001b[0m\u001b[0m\n\u001b[0;32m---> 23\u001b[0;31m \u001b[0msuccess_button\u001b[0m \u001b[0;34m=\u001b[0m \u001b[0mdriver\u001b[0m\u001b[0;34m.\u001b[0m\u001b[0mfind_element\u001b[0m\u001b[0;34m(\u001b[0m\u001b[0mby\u001b[0m\u001b[0;34m=\u001b[0m\u001b[0mBy\u001b[0m\u001b[0;34m.\u001b[0m\u001b[0mCLASS_NAME\u001b[0m\u001b[0;34m,\u001b[0m\u001b[0mvalue\u001b[0m\u001b[0;34m=\u001b[0m\u001b[0;34m\"terms-and-conditions__btn btn btn-success\"\u001b[0m\u001b[0;34m)\u001b[0m\u001b[0;34m\u001b[0m\u001b[0;34m\u001b[0m\u001b[0m\n\u001b[0m\u001b[1;32m     24\u001b[0m \u001b[0msuccess_button\u001b[0m\u001b[0;34m.\u001b[0m\u001b[0mclick\u001b[0m\u001b[0;34m(\u001b[0m\u001b[0;34m)\u001b[0m\u001b[0;34m\u001b[0m\u001b[0;34m\u001b[0m\u001b[0m\n",
      "\u001b[0;32m~/opt/anaconda3/lib/python3.8/site-packages/selenium/webdriver/remote/webdriver.py\u001b[0m in \u001b[0;36mfind_element\u001b[0;34m(self, by, value)\u001b[0m\n\u001b[1;32m   1242\u001b[0m             \u001b[0mvalue\u001b[0m \u001b[0;34m=\u001b[0m \u001b[0;34m'[name=\"%s\"]'\u001b[0m \u001b[0;34m%\u001b[0m \u001b[0mvalue\u001b[0m\u001b[0;34m\u001b[0m\u001b[0;34m\u001b[0m\u001b[0m\n\u001b[1;32m   1243\u001b[0m \u001b[0;34m\u001b[0m\u001b[0m\n\u001b[0;32m-> 1244\u001b[0;31m         return self.execute(Command.FIND_ELEMENT, {\n\u001b[0m\u001b[1;32m   1245\u001b[0m             \u001b[0;34m'using'\u001b[0m\u001b[0;34m:\u001b[0m \u001b[0mby\u001b[0m\u001b[0;34m,\u001b[0m\u001b[0;34m\u001b[0m\u001b[0;34m\u001b[0m\u001b[0m\n\u001b[1;32m   1246\u001b[0m             'value': value})['value']\n",
      "\u001b[0;32m~/opt/anaconda3/lib/python3.8/site-packages/selenium/webdriver/remote/webdriver.py\u001b[0m in \u001b[0;36mexecute\u001b[0;34m(self, driver_command, params)\u001b[0m\n\u001b[1;32m    422\u001b[0m         \u001b[0mresponse\u001b[0m \u001b[0;34m=\u001b[0m \u001b[0mself\u001b[0m\u001b[0;34m.\u001b[0m\u001b[0mcommand_executor\u001b[0m\u001b[0;34m.\u001b[0m\u001b[0mexecute\u001b[0m\u001b[0;34m(\u001b[0m\u001b[0mdriver_command\u001b[0m\u001b[0;34m,\u001b[0m \u001b[0mparams\u001b[0m\u001b[0;34m)\u001b[0m\u001b[0;34m\u001b[0m\u001b[0;34m\u001b[0m\u001b[0m\n\u001b[1;32m    423\u001b[0m         \u001b[0;32mif\u001b[0m \u001b[0mresponse\u001b[0m\u001b[0;34m:\u001b[0m\u001b[0;34m\u001b[0m\u001b[0;34m\u001b[0m\u001b[0m\n\u001b[0;32m--> 424\u001b[0;31m             \u001b[0mself\u001b[0m\u001b[0;34m.\u001b[0m\u001b[0merror_handler\u001b[0m\u001b[0;34m.\u001b[0m\u001b[0mcheck_response\u001b[0m\u001b[0;34m(\u001b[0m\u001b[0mresponse\u001b[0m\u001b[0;34m)\u001b[0m\u001b[0;34m\u001b[0m\u001b[0;34m\u001b[0m\u001b[0m\n\u001b[0m\u001b[1;32m    425\u001b[0m             response['value'] = self._unwrap_value(\n\u001b[1;32m    426\u001b[0m                 response.get('value', None))\n",
      "\u001b[0;32m~/opt/anaconda3/lib/python3.8/site-packages/selenium/webdriver/remote/errorhandler.py\u001b[0m in \u001b[0;36mcheck_response\u001b[0;34m(self, response)\u001b[0m\n\u001b[1;32m    245\u001b[0m                 \u001b[0malert_text\u001b[0m \u001b[0;34m=\u001b[0m \u001b[0mvalue\u001b[0m\u001b[0;34m[\u001b[0m\u001b[0;34m'alert'\u001b[0m\u001b[0;34m]\u001b[0m\u001b[0;34m.\u001b[0m\u001b[0mget\u001b[0m\u001b[0;34m(\u001b[0m\u001b[0;34m'text'\u001b[0m\u001b[0;34m)\u001b[0m\u001b[0;34m\u001b[0m\u001b[0;34m\u001b[0m\u001b[0m\n\u001b[1;32m    246\u001b[0m             \u001b[0;32mraise\u001b[0m \u001b[0mexception_class\u001b[0m\u001b[0;34m(\u001b[0m\u001b[0mmessage\u001b[0m\u001b[0;34m,\u001b[0m \u001b[0mscreen\u001b[0m\u001b[0;34m,\u001b[0m \u001b[0mstacktrace\u001b[0m\u001b[0;34m,\u001b[0m \u001b[0malert_text\u001b[0m\u001b[0;34m)\u001b[0m  \u001b[0;31m# type: ignore[call-arg]  # mypy is not smart enough here\u001b[0m\u001b[0;34m\u001b[0m\u001b[0;34m\u001b[0m\u001b[0m\n\u001b[0;32m--> 247\u001b[0;31m         \u001b[0;32mraise\u001b[0m \u001b[0mexception_class\u001b[0m\u001b[0;34m(\u001b[0m\u001b[0mmessage\u001b[0m\u001b[0;34m,\u001b[0m \u001b[0mscreen\u001b[0m\u001b[0;34m,\u001b[0m \u001b[0mstacktrace\u001b[0m\u001b[0;34m)\u001b[0m\u001b[0;34m\u001b[0m\u001b[0;34m\u001b[0m\u001b[0m\n\u001b[0m\u001b[1;32m    248\u001b[0m \u001b[0;34m\u001b[0m\u001b[0m\n\u001b[1;32m    249\u001b[0m     \u001b[0;32mdef\u001b[0m \u001b[0m_value_or_default\u001b[0m\u001b[0;34m(\u001b[0m\u001b[0mself\u001b[0m\u001b[0;34m,\u001b[0m \u001b[0mobj\u001b[0m\u001b[0;34m:\u001b[0m \u001b[0mMapping\u001b[0m\u001b[0;34m[\u001b[0m\u001b[0m_KT\u001b[0m\u001b[0;34m,\u001b[0m \u001b[0m_VT\u001b[0m\u001b[0;34m]\u001b[0m\u001b[0;34m,\u001b[0m \u001b[0mkey\u001b[0m\u001b[0;34m:\u001b[0m \u001b[0m_KT\u001b[0m\u001b[0;34m,\u001b[0m \u001b[0mdefault\u001b[0m\u001b[0;34m:\u001b[0m \u001b[0m_VT\u001b[0m\u001b[0;34m)\u001b[0m \u001b[0;34m->\u001b[0m \u001b[0m_VT\u001b[0m\u001b[0;34m:\u001b[0m\u001b[0;34m\u001b[0m\u001b[0;34m\u001b[0m\u001b[0m\n",
      "\u001b[0;31mNoSuchElementException\u001b[0m: Message: no such element: Unable to locate element: {\"method\":\"css selector\",\"selector\":\".terms-and-conditions__btn btn btn-success\"}\n  (Session info: chrome=102.0.5005.61)\nStacktrace:\n0   chromedriver_102                    0x0000000105d74d19 chromedriver_102 + 5197081\n1   chromedriver_102                    0x0000000105d02b23 chromedriver_102 + 4729635\n2   chromedriver_102                    0x00000001058e02b8 chromedriver_102 + 393912\n3   chromedriver_102                    0x00000001059152fd chromedriver_102 + 611069\n4   chromedriver_102                    0x0000000105915581 chromedriver_102 + 611713\n5   chromedriver_102                    0x00000001059475a4 chromedriver_102 + 816548\n6   chromedriver_102                    0x000000010593282d chromedriver_102 + 731181\n7   chromedriver_102                    0x00000001059452a1 chromedriver_102 + 807585\n8   chromedriver_102                    0x00000001059326f3 chromedriver_102 + 730867\n9   chromedriver_102                    0x0000000105908a49 chromedriver_102 + 559689\n10  chromedriver_102                    0x0000000105909a75 chromedriver_102 + 563829\n11  chromedriver_102                    0x0000000105d46bdd chromedriver_102 + 5008349\n12  chromedriver_102                    0x0000000105d4bb64 chromedriver_102 + 5028708\n13  chromedriver_102                    0x0000000105d50bcf chromedriver_102 + 5049295\n14  chromedriver_102                    0x0000000105d4c7ca chromedriver_102 + 5031882\n15  chromedriver_102                    0x0000000105d2659f chromedriver_102 + 4875679\n16  chromedriver_102                    0x0000000105d66388 chromedriver_102 + 5137288\n17  chromedriver_102                    0x0000000105d6650f chromedriver_102 + 5137679\n18  chromedriver_102                    0x0000000105d7c085 chromedriver_102 + 5226629\n19  libsystem_pthread.dylib             0x00007ff8004504e1 _pthread_start + 125\n20  libsystem_pthread.dylib             0x00007ff80044bf6b thread_start + 15\n"
     ]
    }
   ],
   "source": [
    "import selenium\n",
    "from selenium import webdriver\n",
    "from selenium.webdriver import ActionChains\n",
    "\n",
    "from selenium.webdriver.common.keys import Keys\n",
    "from selenium.webdriver.common.by import By\n",
    "\n",
    "from selenium.webdriver.support import expected_conditions as EC\n",
    "from selenium.webdriver.support.ui import Select\n",
    "from selenium.webdriver.support.ui import WebDriverWait\n",
    "import os\n",
    "import contextlib\n",
    "\n",
    "\n",
    "URL = 'http://atlas-v280.abmi.kr'\n",
    "driver_path = './chromedriver_102'\n",
    "#os.system(f\"spctl --add --label 'Approved' {driver_path}\")  #for authorization. Mac only\n",
    "driver = webdriver.Chrome(executable_path=driver_path)\n",
    "\n",
    "with driver.get(url=URL): # browsing\n",
    "\tdriver.implicitly_wait(time_to_wait=5) # wait for loading\n",
    "\n",
    "\tsuccess_button = driver.find_element(by=By.CLASS_NAME,value=\"terms-and-conditions__btn btn btn-success\")\n",
    "\tsuccess_button.click() \n"
   ]
  },
  {
   "cell_type": "code",
   "execution_count": 16,
   "metadata": {},
   "outputs": [
    {
     "ename": "ElementClickInterceptedException",
     "evalue": "Message: element click intercepted: Element <span class=\"btn btn-sm btn-success disabled\" data-bind=\"click:$component.newCohortDefinition, css: {disabled: currentCohortDefinition() != undefined || !canCreateCohort()}\">...</span> is not clickable at point (281, 239). Other element would receive the click: <li>...</li>\n  (Session info: chrome=102.0.5005.61)\nStacktrace:\n0   chromedriver_102                    0x0000000107134d19 chromedriver_102 + 5197081\n1   chromedriver_102                    0x00000001070c2b23 chromedriver_102 + 4729635\n2   chromedriver_102                    0x0000000106ca02b8 chromedriver_102 + 393912\n3   chromedriver_102                    0x0000000106cdca52 chromedriver_102 + 641618\n4   chromedriver_102                    0x0000000106cda5d3 chromedriver_102 + 632275\n5   chromedriver_102                    0x0000000106cd7c14 chromedriver_102 + 621588\n6   chromedriver_102                    0x0000000106cd6885 chromedriver_102 + 616581\n7   chromedriver_102                    0x0000000106cca689 chromedriver_102 + 566921\n8   chromedriver_102                    0x0000000106cf2802 chromedriver_102 + 731138\n9   chromedriver_102                    0x0000000106cc9f45 chromedriver_102 + 565061\n10  chromedriver_102                    0x0000000106cf290e chromedriver_102 + 731406\n11  chromedriver_102                    0x0000000106d052a1 chromedriver_102 + 807585\n12  chromedriver_102                    0x0000000106cf26f3 chromedriver_102 + 730867\n13  chromedriver_102                    0x0000000106cc8a49 chromedriver_102 + 559689\n14  chromedriver_102                    0x0000000106cc9a75 chromedriver_102 + 563829\n15  chromedriver_102                    0x0000000107106bdd chromedriver_102 + 5008349\n16  chromedriver_102                    0x000000010710bb64 chromedriver_102 + 5028708\n17  chromedriver_102                    0x0000000107110bcf chromedriver_102 + 5049295\n18  chromedriver_102                    0x000000010710c7ca chromedriver_102 + 5031882\n19  chromedriver_102                    0x00000001070e659f chromedriver_102 + 4875679\n20  chromedriver_102                    0x0000000107126388 chromedriver_102 + 5137288\n21  chromedriver_102                    0x000000010712650f chromedriver_102 + 5137679\n22  chromedriver_102                    0x000000010713c085 chromedriver_102 + 5226629\n23  libsystem_pthread.dylib             0x00007ff8004504e1 _pthread_start + 125\n24  libsystem_pthread.dylib             0x00007ff80044bf6b thread_start + 15\n",
     "output_type": "error",
     "traceback": [
      "\u001b[0;31m---------------------------------------------------------------------------\u001b[0m",
      "\u001b[0;31mElementClickInterceptedException\u001b[0m          Traceback (most recent call last)",
      "\u001b[0;32m<ipython-input-16-b9962fe97a66>\u001b[0m in \u001b[0;36m<module>\u001b[0;34m\u001b[0m\n\u001b[1;32m      1\u001b[0m \u001b[0msuccess_button\u001b[0m \u001b[0;34m=\u001b[0m \u001b[0mdriver\u001b[0m\u001b[0;34m.\u001b[0m\u001b[0mfind_element\u001b[0m\u001b[0;34m(\u001b[0m\u001b[0mby\u001b[0m\u001b[0;34m=\u001b[0m\u001b[0mBy\u001b[0m\u001b[0;34m.\u001b[0m\u001b[0mCLASS_NAME\u001b[0m\u001b[0;34m,\u001b[0m\u001b[0mvalue\u001b[0m\u001b[0;34m=\u001b[0m\u001b[0;34m\"btn-success\"\u001b[0m\u001b[0;34m)\u001b[0m\u001b[0;34m\u001b[0m\u001b[0;34m\u001b[0m\u001b[0m\n\u001b[0;32m----> 2\u001b[0;31m \u001b[0msuccess_button\u001b[0m\u001b[0;34m.\u001b[0m\u001b[0mclick\u001b[0m\u001b[0;34m(\u001b[0m\u001b[0;34m)\u001b[0m\u001b[0;34m\u001b[0m\u001b[0;34m\u001b[0m\u001b[0m\n\u001b[0m",
      "\u001b[0;32m~/opt/anaconda3/lib/python3.8/site-packages/selenium/webdriver/remote/webelement.py\u001b[0m in \u001b[0;36mclick\u001b[0;34m(self)\u001b[0m\n\u001b[1;32m     79\u001b[0m     \u001b[0;32mdef\u001b[0m \u001b[0mclick\u001b[0m\u001b[0;34m(\u001b[0m\u001b[0mself\u001b[0m\u001b[0;34m)\u001b[0m \u001b[0;34m->\u001b[0m \u001b[0;32mNone\u001b[0m\u001b[0;34m:\u001b[0m\u001b[0;34m\u001b[0m\u001b[0;34m\u001b[0m\u001b[0m\n\u001b[1;32m     80\u001b[0m         \u001b[0;34m\"\"\"Clicks the element.\"\"\"\u001b[0m\u001b[0;34m\u001b[0m\u001b[0;34m\u001b[0m\u001b[0m\n\u001b[0;32m---> 81\u001b[0;31m         \u001b[0mself\u001b[0m\u001b[0;34m.\u001b[0m\u001b[0m_execute\u001b[0m\u001b[0;34m(\u001b[0m\u001b[0mCommand\u001b[0m\u001b[0;34m.\u001b[0m\u001b[0mCLICK_ELEMENT\u001b[0m\u001b[0;34m)\u001b[0m\u001b[0;34m\u001b[0m\u001b[0;34m\u001b[0m\u001b[0m\n\u001b[0m\u001b[1;32m     82\u001b[0m \u001b[0;34m\u001b[0m\u001b[0m\n\u001b[1;32m     83\u001b[0m     \u001b[0;32mdef\u001b[0m \u001b[0msubmit\u001b[0m\u001b[0;34m(\u001b[0m\u001b[0mself\u001b[0m\u001b[0;34m)\u001b[0m\u001b[0;34m:\u001b[0m\u001b[0;34m\u001b[0m\u001b[0;34m\u001b[0m\u001b[0m\n",
      "\u001b[0;32m~/opt/anaconda3/lib/python3.8/site-packages/selenium/webdriver/remote/webelement.py\u001b[0m in \u001b[0;36m_execute\u001b[0;34m(self, command, params)\u001b[0m\n\u001b[1;32m    708\u001b[0m             \u001b[0mparams\u001b[0m \u001b[0;34m=\u001b[0m \u001b[0;34m{\u001b[0m\u001b[0;34m}\u001b[0m\u001b[0;34m\u001b[0m\u001b[0;34m\u001b[0m\u001b[0m\n\u001b[1;32m    709\u001b[0m         \u001b[0mparams\u001b[0m\u001b[0;34m[\u001b[0m\u001b[0;34m'id'\u001b[0m\u001b[0;34m]\u001b[0m \u001b[0;34m=\u001b[0m \u001b[0mself\u001b[0m\u001b[0;34m.\u001b[0m\u001b[0m_id\u001b[0m\u001b[0;34m\u001b[0m\u001b[0;34m\u001b[0m\u001b[0m\n\u001b[0;32m--> 710\u001b[0;31m         \u001b[0;32mreturn\u001b[0m \u001b[0mself\u001b[0m\u001b[0;34m.\u001b[0m\u001b[0m_parent\u001b[0m\u001b[0;34m.\u001b[0m\u001b[0mexecute\u001b[0m\u001b[0;34m(\u001b[0m\u001b[0mcommand\u001b[0m\u001b[0;34m,\u001b[0m \u001b[0mparams\u001b[0m\u001b[0;34m)\u001b[0m\u001b[0;34m\u001b[0m\u001b[0;34m\u001b[0m\u001b[0m\n\u001b[0m\u001b[1;32m    711\u001b[0m \u001b[0;34m\u001b[0m\u001b[0m\n\u001b[1;32m    712\u001b[0m     \u001b[0;32mdef\u001b[0m \u001b[0mfind_element\u001b[0m\u001b[0;34m(\u001b[0m\u001b[0mself\u001b[0m\u001b[0;34m,\u001b[0m \u001b[0mby\u001b[0m\u001b[0;34m=\u001b[0m\u001b[0mBy\u001b[0m\u001b[0;34m.\u001b[0m\u001b[0mID\u001b[0m\u001b[0;34m,\u001b[0m \u001b[0mvalue\u001b[0m\u001b[0;34m=\u001b[0m\u001b[0;32mNone\u001b[0m\u001b[0;34m)\u001b[0m\u001b[0;34m:\u001b[0m\u001b[0;34m\u001b[0m\u001b[0;34m\u001b[0m\u001b[0m\n",
      "\u001b[0;32m~/opt/anaconda3/lib/python3.8/site-packages/selenium/webdriver/remote/webdriver.py\u001b[0m in \u001b[0;36mexecute\u001b[0;34m(self, driver_command, params)\u001b[0m\n\u001b[1;32m    422\u001b[0m         \u001b[0mresponse\u001b[0m \u001b[0;34m=\u001b[0m \u001b[0mself\u001b[0m\u001b[0;34m.\u001b[0m\u001b[0mcommand_executor\u001b[0m\u001b[0;34m.\u001b[0m\u001b[0mexecute\u001b[0m\u001b[0;34m(\u001b[0m\u001b[0mdriver_command\u001b[0m\u001b[0;34m,\u001b[0m \u001b[0mparams\u001b[0m\u001b[0;34m)\u001b[0m\u001b[0;34m\u001b[0m\u001b[0;34m\u001b[0m\u001b[0m\n\u001b[1;32m    423\u001b[0m         \u001b[0;32mif\u001b[0m \u001b[0mresponse\u001b[0m\u001b[0;34m:\u001b[0m\u001b[0;34m\u001b[0m\u001b[0;34m\u001b[0m\u001b[0m\n\u001b[0;32m--> 424\u001b[0;31m             \u001b[0mself\u001b[0m\u001b[0;34m.\u001b[0m\u001b[0merror_handler\u001b[0m\u001b[0;34m.\u001b[0m\u001b[0mcheck_response\u001b[0m\u001b[0;34m(\u001b[0m\u001b[0mresponse\u001b[0m\u001b[0;34m)\u001b[0m\u001b[0;34m\u001b[0m\u001b[0;34m\u001b[0m\u001b[0m\n\u001b[0m\u001b[1;32m    425\u001b[0m             response['value'] = self._unwrap_value(\n\u001b[1;32m    426\u001b[0m                 response.get('value', None))\n",
      "\u001b[0;32m~/opt/anaconda3/lib/python3.8/site-packages/selenium/webdriver/remote/errorhandler.py\u001b[0m in \u001b[0;36mcheck_response\u001b[0;34m(self, response)\u001b[0m\n\u001b[1;32m    245\u001b[0m                 \u001b[0malert_text\u001b[0m \u001b[0;34m=\u001b[0m \u001b[0mvalue\u001b[0m\u001b[0;34m[\u001b[0m\u001b[0;34m'alert'\u001b[0m\u001b[0;34m]\u001b[0m\u001b[0;34m.\u001b[0m\u001b[0mget\u001b[0m\u001b[0;34m(\u001b[0m\u001b[0;34m'text'\u001b[0m\u001b[0;34m)\u001b[0m\u001b[0;34m\u001b[0m\u001b[0;34m\u001b[0m\u001b[0m\n\u001b[1;32m    246\u001b[0m             \u001b[0;32mraise\u001b[0m \u001b[0mexception_class\u001b[0m\u001b[0;34m(\u001b[0m\u001b[0mmessage\u001b[0m\u001b[0;34m,\u001b[0m \u001b[0mscreen\u001b[0m\u001b[0;34m,\u001b[0m \u001b[0mstacktrace\u001b[0m\u001b[0;34m,\u001b[0m \u001b[0malert_text\u001b[0m\u001b[0;34m)\u001b[0m  \u001b[0;31m# type: ignore[call-arg]  # mypy is not smart enough here\u001b[0m\u001b[0;34m\u001b[0m\u001b[0;34m\u001b[0m\u001b[0m\n\u001b[0;32m--> 247\u001b[0;31m         \u001b[0;32mraise\u001b[0m \u001b[0mexception_class\u001b[0m\u001b[0;34m(\u001b[0m\u001b[0mmessage\u001b[0m\u001b[0;34m,\u001b[0m \u001b[0mscreen\u001b[0m\u001b[0;34m,\u001b[0m \u001b[0mstacktrace\u001b[0m\u001b[0;34m)\u001b[0m\u001b[0;34m\u001b[0m\u001b[0;34m\u001b[0m\u001b[0m\n\u001b[0m\u001b[1;32m    248\u001b[0m \u001b[0;34m\u001b[0m\u001b[0m\n\u001b[1;32m    249\u001b[0m     \u001b[0;32mdef\u001b[0m \u001b[0m_value_or_default\u001b[0m\u001b[0;34m(\u001b[0m\u001b[0mself\u001b[0m\u001b[0;34m,\u001b[0m \u001b[0mobj\u001b[0m\u001b[0;34m:\u001b[0m \u001b[0mMapping\u001b[0m\u001b[0;34m[\u001b[0m\u001b[0m_KT\u001b[0m\u001b[0;34m,\u001b[0m \u001b[0m_VT\u001b[0m\u001b[0;34m]\u001b[0m\u001b[0;34m,\u001b[0m \u001b[0mkey\u001b[0m\u001b[0;34m:\u001b[0m \u001b[0m_KT\u001b[0m\u001b[0;34m,\u001b[0m \u001b[0mdefault\u001b[0m\u001b[0;34m:\u001b[0m \u001b[0m_VT\u001b[0m\u001b[0;34m)\u001b[0m \u001b[0;34m->\u001b[0m \u001b[0m_VT\u001b[0m\u001b[0;34m:\u001b[0m\u001b[0;34m\u001b[0m\u001b[0;34m\u001b[0m\u001b[0m\n",
      "\u001b[0;31mElementClickInterceptedException\u001b[0m: Message: element click intercepted: Element <span class=\"btn btn-sm btn-success disabled\" data-bind=\"click:$component.newCohortDefinition, css: {disabled: currentCohortDefinition() != undefined || !canCreateCohort()}\">...</span> is not clickable at point (281, 239). Other element would receive the click: <li>...</li>\n  (Session info: chrome=102.0.5005.61)\nStacktrace:\n0   chromedriver_102                    0x0000000107134d19 chromedriver_102 + 5197081\n1   chromedriver_102                    0x00000001070c2b23 chromedriver_102 + 4729635\n2   chromedriver_102                    0x0000000106ca02b8 chromedriver_102 + 393912\n3   chromedriver_102                    0x0000000106cdca52 chromedriver_102 + 641618\n4   chromedriver_102                    0x0000000106cda5d3 chromedriver_102 + 632275\n5   chromedriver_102                    0x0000000106cd7c14 chromedriver_102 + 621588\n6   chromedriver_102                    0x0000000106cd6885 chromedriver_102 + 616581\n7   chromedriver_102                    0x0000000106cca689 chromedriver_102 + 566921\n8   chromedriver_102                    0x0000000106cf2802 chromedriver_102 + 731138\n9   chromedriver_102                    0x0000000106cc9f45 chromedriver_102 + 565061\n10  chromedriver_102                    0x0000000106cf290e chromedriver_102 + 731406\n11  chromedriver_102                    0x0000000106d052a1 chromedriver_102 + 807585\n12  chromedriver_102                    0x0000000106cf26f3 chromedriver_102 + 730867\n13  chromedriver_102                    0x0000000106cc8a49 chromedriver_102 + 559689\n14  chromedriver_102                    0x0000000106cc9a75 chromedriver_102 + 563829\n15  chromedriver_102                    0x0000000107106bdd chromedriver_102 + 5008349\n16  chromedriver_102                    0x000000010710bb64 chromedriver_102 + 5028708\n17  chromedriver_102                    0x0000000107110bcf chromedriver_102 + 5049295\n18  chromedriver_102                    0x000000010710c7ca chromedriver_102 + 5031882\n19  chromedriver_102                    0x00000001070e659f chromedriver_102 + 4875679\n20  chromedriver_102                    0x0000000107126388 chromedriver_102 + 5137288\n21  chromedriver_102                    0x000000010712650f chromedriver_102 + 5137679\n22  chromedriver_102                    0x000000010713c085 chromedriver_102 + 5226629\n23  libsystem_pthread.dylib             0x00007ff8004504e1 _pthread_start + 125\n24  libsystem_pthread.dylib             0x00007ff80044bf6b thread_start + 15\n"
     ]
    }
   ],
   "source": []
  },
  {
   "cell_type": "code",
   "execution_count": 14,
   "metadata": {},
   "outputs": [],
   "source": [
    "with contextlib.suppress(Exception): # press agree button if exists\n",
    "\tsuccess_button = driver.find_element(by=By.CLASS_NAME,value=\"btn-success\")\n",
    "\t"
   ]
  },
  {
   "cell_type": "code",
   "execution_count": 12,
   "metadata": {},
   "outputs": [
    {
     "ename": "NoSuchElementException",
     "evalue": "Message: no such element: Unable to locate element: {\"method\":\"css selector\",\"selector\":\".btn-success\"}\n  (Session info: chrome=102.0.5005.61)\nStacktrace:\n0   chromedriver_102                    0x0000000108219d19 chromedriver_102 + 5197081\n1   chromedriver_102                    0x00000001081a7b23 chromedriver_102 + 4729635\n2   chromedriver_102                    0x0000000107d852b8 chromedriver_102 + 393912\n3   chromedriver_102                    0x0000000107dba2fd chromedriver_102 + 611069\n4   chromedriver_102                    0x0000000107dba581 chromedriver_102 + 611713\n5   chromedriver_102                    0x0000000107dec5a4 chromedriver_102 + 816548\n6   chromedriver_102                    0x0000000107dd782d chromedriver_102 + 731181\n7   chromedriver_102                    0x0000000107dea2a1 chromedriver_102 + 807585\n8   chromedriver_102                    0x0000000107dd76f3 chromedriver_102 + 730867\n9   chromedriver_102                    0x0000000107dada49 chromedriver_102 + 559689\n10  chromedriver_102                    0x0000000107daea75 chromedriver_102 + 563829\n11  chromedriver_102                    0x00000001081ebbdd chromedriver_102 + 5008349\n12  chromedriver_102                    0x00000001081f0b64 chromedriver_102 + 5028708\n13  chromedriver_102                    0x00000001081f5bcf chromedriver_102 + 5049295\n14  chromedriver_102                    0x00000001081f17ca chromedriver_102 + 5031882\n15  chromedriver_102                    0x00000001081cb59f chromedriver_102 + 4875679\n16  chromedriver_102                    0x000000010820b388 chromedriver_102 + 5137288\n17  chromedriver_102                    0x000000010820b50f chromedriver_102 + 5137679\n18  chromedriver_102                    0x0000000108221085 chromedriver_102 + 5226629\n19  libsystem_pthread.dylib             0x00007ff8004504e1 _pthread_start + 125\n20  libsystem_pthread.dylib             0x00007ff80044bf6b thread_start + 15\n",
     "output_type": "error",
     "traceback": [
      "\u001b[0;31m---------------------------------------------------------------------------\u001b[0m",
      "\u001b[0;31mNoSuchElementException\u001b[0m                    Traceback (most recent call last)",
      "\u001b[0;32m<ipython-input-12-9c96b4d35300>\u001b[0m in \u001b[0;36m<module>\u001b[0;34m\u001b[0m\n\u001b[0;32m----> 1\u001b[0;31m \u001b[0mdriver\u001b[0m\u001b[0;34m.\u001b[0m\u001b[0mfind_element\u001b[0m\u001b[0;34m(\u001b[0m\u001b[0mby\u001b[0m\u001b[0;34m=\u001b[0m\u001b[0mBy\u001b[0m\u001b[0;34m.\u001b[0m\u001b[0mCLASS_NAME\u001b[0m\u001b[0;34m,\u001b[0m\u001b[0mvalue\u001b[0m\u001b[0;34m=\u001b[0m\u001b[0;34m\"btn-success\"\u001b[0m\u001b[0;34m)\u001b[0m\u001b[0;34m\u001b[0m\u001b[0;34m\u001b[0m\u001b[0m\n\u001b[0m",
      "\u001b[0;32m~/opt/anaconda3/lib/python3.8/site-packages/selenium/webdriver/remote/webdriver.py\u001b[0m in \u001b[0;36mfind_element\u001b[0;34m(self, by, value)\u001b[0m\n\u001b[1;32m   1242\u001b[0m             \u001b[0mvalue\u001b[0m \u001b[0;34m=\u001b[0m \u001b[0;34m'[name=\"%s\"]'\u001b[0m \u001b[0;34m%\u001b[0m \u001b[0mvalue\u001b[0m\u001b[0;34m\u001b[0m\u001b[0;34m\u001b[0m\u001b[0m\n\u001b[1;32m   1243\u001b[0m \u001b[0;34m\u001b[0m\u001b[0m\n\u001b[0;32m-> 1244\u001b[0;31m         return self.execute(Command.FIND_ELEMENT, {\n\u001b[0m\u001b[1;32m   1245\u001b[0m             \u001b[0;34m'using'\u001b[0m\u001b[0;34m:\u001b[0m \u001b[0mby\u001b[0m\u001b[0;34m,\u001b[0m\u001b[0;34m\u001b[0m\u001b[0;34m\u001b[0m\u001b[0m\n\u001b[1;32m   1246\u001b[0m             'value': value})['value']\n",
      "\u001b[0;32m~/opt/anaconda3/lib/python3.8/site-packages/selenium/webdriver/remote/webdriver.py\u001b[0m in \u001b[0;36mexecute\u001b[0;34m(self, driver_command, params)\u001b[0m\n\u001b[1;32m    422\u001b[0m         \u001b[0mresponse\u001b[0m \u001b[0;34m=\u001b[0m \u001b[0mself\u001b[0m\u001b[0;34m.\u001b[0m\u001b[0mcommand_executor\u001b[0m\u001b[0;34m.\u001b[0m\u001b[0mexecute\u001b[0m\u001b[0;34m(\u001b[0m\u001b[0mdriver_command\u001b[0m\u001b[0;34m,\u001b[0m \u001b[0mparams\u001b[0m\u001b[0;34m)\u001b[0m\u001b[0;34m\u001b[0m\u001b[0;34m\u001b[0m\u001b[0m\n\u001b[1;32m    423\u001b[0m         \u001b[0;32mif\u001b[0m \u001b[0mresponse\u001b[0m\u001b[0;34m:\u001b[0m\u001b[0;34m\u001b[0m\u001b[0;34m\u001b[0m\u001b[0m\n\u001b[0;32m--> 424\u001b[0;31m             \u001b[0mself\u001b[0m\u001b[0;34m.\u001b[0m\u001b[0merror_handler\u001b[0m\u001b[0;34m.\u001b[0m\u001b[0mcheck_response\u001b[0m\u001b[0;34m(\u001b[0m\u001b[0mresponse\u001b[0m\u001b[0;34m)\u001b[0m\u001b[0;34m\u001b[0m\u001b[0;34m\u001b[0m\u001b[0m\n\u001b[0m\u001b[1;32m    425\u001b[0m             response['value'] = self._unwrap_value(\n\u001b[1;32m    426\u001b[0m                 response.get('value', None))\n",
      "\u001b[0;32m~/opt/anaconda3/lib/python3.8/site-packages/selenium/webdriver/remote/errorhandler.py\u001b[0m in \u001b[0;36mcheck_response\u001b[0;34m(self, response)\u001b[0m\n\u001b[1;32m    245\u001b[0m                 \u001b[0malert_text\u001b[0m \u001b[0;34m=\u001b[0m \u001b[0mvalue\u001b[0m\u001b[0;34m[\u001b[0m\u001b[0;34m'alert'\u001b[0m\u001b[0;34m]\u001b[0m\u001b[0;34m.\u001b[0m\u001b[0mget\u001b[0m\u001b[0;34m(\u001b[0m\u001b[0;34m'text'\u001b[0m\u001b[0;34m)\u001b[0m\u001b[0;34m\u001b[0m\u001b[0;34m\u001b[0m\u001b[0m\n\u001b[1;32m    246\u001b[0m             \u001b[0;32mraise\u001b[0m \u001b[0mexception_class\u001b[0m\u001b[0;34m(\u001b[0m\u001b[0mmessage\u001b[0m\u001b[0;34m,\u001b[0m \u001b[0mscreen\u001b[0m\u001b[0;34m,\u001b[0m \u001b[0mstacktrace\u001b[0m\u001b[0;34m,\u001b[0m \u001b[0malert_text\u001b[0m\u001b[0;34m)\u001b[0m  \u001b[0;31m# type: ignore[call-arg]  # mypy is not smart enough here\u001b[0m\u001b[0;34m\u001b[0m\u001b[0;34m\u001b[0m\u001b[0m\n\u001b[0;32m--> 247\u001b[0;31m         \u001b[0;32mraise\u001b[0m \u001b[0mexception_class\u001b[0m\u001b[0;34m(\u001b[0m\u001b[0mmessage\u001b[0m\u001b[0;34m,\u001b[0m \u001b[0mscreen\u001b[0m\u001b[0;34m,\u001b[0m \u001b[0mstacktrace\u001b[0m\u001b[0;34m)\u001b[0m\u001b[0;34m\u001b[0m\u001b[0;34m\u001b[0m\u001b[0m\n\u001b[0m\u001b[1;32m    248\u001b[0m \u001b[0;34m\u001b[0m\u001b[0m\n\u001b[1;32m    249\u001b[0m     \u001b[0;32mdef\u001b[0m \u001b[0m_value_or_default\u001b[0m\u001b[0;34m(\u001b[0m\u001b[0mself\u001b[0m\u001b[0;34m,\u001b[0m \u001b[0mobj\u001b[0m\u001b[0;34m:\u001b[0m \u001b[0mMapping\u001b[0m\u001b[0;34m[\u001b[0m\u001b[0m_KT\u001b[0m\u001b[0;34m,\u001b[0m \u001b[0m_VT\u001b[0m\u001b[0;34m]\u001b[0m\u001b[0;34m,\u001b[0m \u001b[0mkey\u001b[0m\u001b[0;34m:\u001b[0m \u001b[0m_KT\u001b[0m\u001b[0;34m,\u001b[0m \u001b[0mdefault\u001b[0m\u001b[0;34m:\u001b[0m \u001b[0m_VT\u001b[0m\u001b[0;34m)\u001b[0m \u001b[0;34m->\u001b[0m \u001b[0m_VT\u001b[0m\u001b[0;34m:\u001b[0m\u001b[0;34m\u001b[0m\u001b[0;34m\u001b[0m\u001b[0m\n",
      "\u001b[0;31mNoSuchElementException\u001b[0m: Message: no such element: Unable to locate element: {\"method\":\"css selector\",\"selector\":\".btn-success\"}\n  (Session info: chrome=102.0.5005.61)\nStacktrace:\n0   chromedriver_102                    0x0000000108219d19 chromedriver_102 + 5197081\n1   chromedriver_102                    0x00000001081a7b23 chromedriver_102 + 4729635\n2   chromedriver_102                    0x0000000107d852b8 chromedriver_102 + 393912\n3   chromedriver_102                    0x0000000107dba2fd chromedriver_102 + 611069\n4   chromedriver_102                    0x0000000107dba581 chromedriver_102 + 611713\n5   chromedriver_102                    0x0000000107dec5a4 chromedriver_102 + 816548\n6   chromedriver_102                    0x0000000107dd782d chromedriver_102 + 731181\n7   chromedriver_102                    0x0000000107dea2a1 chromedriver_102 + 807585\n8   chromedriver_102                    0x0000000107dd76f3 chromedriver_102 + 730867\n9   chromedriver_102                    0x0000000107dada49 chromedriver_102 + 559689\n10  chromedriver_102                    0x0000000107daea75 chromedriver_102 + 563829\n11  chromedriver_102                    0x00000001081ebbdd chromedriver_102 + 5008349\n12  chromedriver_102                    0x00000001081f0b64 chromedriver_102 + 5028708\n13  chromedriver_102                    0x00000001081f5bcf chromedriver_102 + 5049295\n14  chromedriver_102                    0x00000001081f17ca chromedriver_102 + 5031882\n15  chromedriver_102                    0x00000001081cb59f chromedriver_102 + 4875679\n16  chromedriver_102                    0x000000010820b388 chromedriver_102 + 5137288\n17  chromedriver_102                    0x000000010820b50f chromedriver_102 + 5137679\n18  chromedriver_102                    0x0000000108221085 chromedriver_102 + 5226629\n19  libsystem_pthread.dylib             0x00007ff8004504e1 _pthread_start + 125\n20  libsystem_pthread.dylib             0x00007ff80044bf6b thread_start + 15\n"
     ]
    }
   ],
   "source": []
  },
  {
   "cell_type": "code",
   "execution_count": 5,
   "metadata": {},
   "outputs": [
    {
     "name": "stderr",
     "output_type": "stream",
     "text": [
      "<ipython-input-5-b8a8be6e5151>:1: DeprecationWarning: find_element_by_* commands are deprecated. Please use find_element() instead\n",
      "  search_box = driver.find_element_by_class_name(\"btn-success\")\n"
     ]
    }
   ],
   "source": [
    "search_box = driver.find_element_by_class_name(\"btn-success\")"
   ]
  },
  {
   "cell_type": "code",
   "execution_count": null,
   "metadata": {},
   "outputs": [],
   "source": [
    "driver.current_url"
   ]
  },
  {
   "cell_type": "code",
   "execution_count": null,
   "metadata": {},
   "outputs": [],
   "source": [
    "# webpage 닫기\n",
    "driver.close()\n"
   ]
  }
 ],
 "metadata": {
  "interpreter": {
   "hash": "0babe36d56b8a40e929084f4cd298e834b9ceb0b3c3094c65a02fb3d36632864"
  },
  "kernelspec": {
   "display_name": "Python 3.8.8 ('base')",
   "language": "python",
   "name": "python3"
  },
  "language_info": {
   "codemirror_mode": {
    "name": "ipython",
    "version": 3
   },
   "file_extension": ".py",
   "mimetype": "text/x-python",
   "name": "python",
   "nbconvert_exporter": "python",
   "pygments_lexer": "ipython3",
   "version": "3.8.8"
  },
  "orig_nbformat": 4
 },
 "nbformat": 4,
 "nbformat_minor": 2
}
