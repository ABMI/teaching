{
 "cells": [
  {
   "cell_type": "code",
   "execution_count": null,
   "metadata": {},
   "outputs": [],
   "source": [
    "# CLI vs GUI\n",
    "\n",
    "# Terminal, CMD\n",
    "\n",
    "# SSH, SCP\n",
    "\n",
    "# tar, gzip, tar.gz, zip...\n",
    "\n",
    "# Configuration : XML, JSON, YAML, Dataclass (id, pw나 기타 등등 자주 바뀌는 변수들을 담아놓은 별도의 공간) \n",
    "\n",
    "# 위 키워드로 검색해서 구글에서 많이 읽어보세요~~\n",
    "# 특히 SSH, SCP 명령어 잘 기억해놓으세요."
   ]
  },
  {
   "cell_type": "code",
   "execution_count": 12,
   "metadata": {},
   "outputs": [],
   "source": [
    "# 1. SSH connect to server\n",
    "\n",
    "#pip install paramiko\n",
    "#pip install scp\n",
    "\n",
    "import paramiko\n",
    "from scp import SCPClient\n",
    "from datetime import datetime\n",
    "from datetime import timedelta\n",
    "\n",
    "def createSSHClient(server, port, user, password):\n",
    "    client = paramiko.SSHClient()\n",
    "    client.load_system_host_keys()\n",
    "    client.set_missing_host_key_policy(paramiko.AutoAddPolicy())\n",
    "    client.connect(server, port, user, password)\n",
    "    return client\n",
    "\n",
    "ssh = createSSHClient('10.5.12.43', '22', 'cbj', 'choi328328')\n",
    "\n",
    "\n"
   ]
  },
  {
   "cell_type": "code",
   "execution_count": 23,
   "metadata": {},
   "outputs": [],
   "source": [
    "# SCP\n",
    "scp = SCPClient(ssh.get_transport())\n",
    "base_path = '/home/cbj/ssh_test'\n",
    "scp.put('test.zip',base_path)"
   ]
  },
  {
   "cell_type": "code",
   "execution_count": null,
   "metadata": {},
   "outputs": [],
   "source": [
    "# unzip\n",
    "\n",
    "stdin, stdout, stderr=ssh.exec_command(f'unzip {base_path}/test.zip')\n",
    "lines = stdout.readlines()\n",
    "print(lines)"
   ]
  },
  {
   "cell_type": "code",
   "execution_count": null,
   "metadata": {},
   "outputs": [],
   "source": [
    "# build\n",
    "build_command = (\n",
    "\tf\"R CMD INSTALL --no-multiarch --with-keep.source {base_path}\"\n",
    ")"
   ]
  },
  {
   "cell_type": "code",
   "execution_count": 5,
   "metadata": {},
   "outputs": [],
   "source": [
    "# configuration\n",
    "from omegaconf import OmegaConf\n",
    "db_conf = OmegaConf.load('client_conf.yaml').db_conf"
   ]
  },
  {
   "cell_type": "code",
   "execution_count": 8,
   "metadata": {},
   "outputs": [],
   "source": [
    "# Make script\n",
    "project= 'fltest3'\n",
    "rscript=f'''\n",
    "\n",
    "library({project})\n",
    "library(dplyr)\n",
    "# USER INPUTS\n",
    "#=======================\n",
    "# The folder where the study intermediate and result files will be written:\n",
    "outputFolder <- \"{project}Results\"\n",
    "\n",
    "# Specify where the temporary files (used by the ff package) will be created:\n",
    "options(fftempdir = \"./temp\")\n",
    "\n",
    "# Details for connecting to the server:\n",
    "dbms <- \"{db_conf.dbms}\"\n",
    "user <- '{db_conf.user}'\n",
    "pw <- '{db_conf.pw}'\n",
    "server <- '{db_conf.server}'\n",
    "port <- '{db_conf.port}'\n",
    "\n",
    "downloadJdbcDrivers('{db_conf.dbms}','./{project}')\n",
    "connectionDetails <- DatabaseConnector::createConnectionDetails(dbms = dbms,\n",
    "                                                            server = server,\n",
    "                                                            user = user,\n",
    "                                                            password = pw,\n",
    "                                                            port = port,\n",
    "                                                            pathToDriver='./{project}')\n",
    "\n",
    "# Add the database containing the OMOP CDM data\n",
    "cdmDatabaseSchema <- '{db_conf.cdmDatabaseSchema}'\n",
    "# Add a sharebale name for the database containing the OMOP CDM data\n",
    "cdmDatabaseName <- '{db_conf.cdmDatabaseName}'\n",
    "# Add a database with read/write access as this is where the cohorts will be generated\n",
    "cohortDatabaseSchema <- '{db_conf.cohortDatabaseSchema}'\n",
    "\n",
    "oracleTempSchema <- NULL\n",
    "\n",
    "# table name where the cohorts will be generated\n",
    "cohortTable <- '{project}Cohort'\n",
    "#=======================\n",
    "\n",
    "execute(connectionDetails = connectionDetails,\n",
    "    cdmDatabaseSchema = cdmDatabaseSchema,\n",
    "    cdmDatabaseName = cdmDatabaseName,\n",
    "    cohortDatabaseSchema = cohortDatabaseSchema,\n",
    "    oracleTempSchema = oracleTempSchema,\n",
    "    cohortTable = cohortTable,\n",
    "    outputFolder = outputFolder,\n",
    "    createProtocol = F,\n",
    "    createCohorts = T,\n",
    "    runAnalyses = T,\n",
    "    createResultsDoc = F,\n",
    "    packageResults = F,\n",
    "    createValidationPackage = F,  \n",
    "    #analysesToValidate = 1,\n",
    "    minCellCount= 5,\n",
    "    createShiny = F,\n",
    "    createJournalDocument = F,\n",
    "    analysisIdDocument = 1)\n",
    "'''\n",
    "\n",
    "with open('./temp_run.R','w') as f:\n",
    "    f.write(rscript)\n",
    "\n"
   ]
  },
  {
   "cell_type": "code",
   "execution_count": null,
   "metadata": {},
   "outputs": [],
   "source": [
    "# transport script\n",
    "scp = SCPClient(ssh.get_transport())\n",
    "base_path = '/home/cbj/ssh_test'\n",
    "scp.put('temp_run.R',f'{base_path}/extras/')"
   ]
  },
  {
   "cell_type": "code",
   "execution_count": null,
   "metadata": {},
   "outputs": [],
   "source": [
    "# run Rscript\n",
    "stdin, stdout, stderr=ssh.exec_command(f'Rscript {base_path}/extras/temp_run.R')\n",
    "lines = stdout.readlines()\n",
    "print(lines)"
   ]
  },
  {
   "cell_type": "code",
   "execution_count": null,
   "metadata": {},
   "outputs": [],
   "source": [
    "# 숙제 : \n",
    "# \t다운로드 받은 패키지를 서버로 옮겨서 실행해서 결과까지 확인하는 코드 작성\n",
    "#\t이전 시간에 작성한 Feedernet or ATLAS 코드와 이어지도록 코드 작성해서 순수 파이썬으로 패키지 다운받고 서버로 보내서 실행해서 결과값 받을 수 있도록 코드 작성"
   ]
  }
 ],
 "metadata": {
  "interpreter": {
   "hash": "0babe36d56b8a40e929084f4cd298e834b9ceb0b3c3094c65a02fb3d36632864"
  },
  "kernelspec": {
   "display_name": "Python 3.8.8 ('base')",
   "language": "python",
   "name": "python3"
  },
  "language_info": {
   "codemirror_mode": {
    "name": "ipython",
    "version": 3
   },
   "file_extension": ".py",
   "mimetype": "text/x-python",
   "name": "python",
   "nbconvert_exporter": "python",
   "pygments_lexer": "ipython3",
   "version": "3.8.8"
  },
  "orig_nbformat": 4
 },
 "nbformat": 4,
 "nbformat_minor": 2
}
