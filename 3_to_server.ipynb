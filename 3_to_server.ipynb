{
 "cells": [
  {
   "cell_type": "code",
   "execution_count": null,
   "metadata": {},
   "outputs": [],
   "source": [
    "# CLI vs GUI\n",
    "\n",
    "# Terminal, CMD\n",
    "\n",
    "# SSH, SCP\n",
    "\n",
    "# tar, gzip, tar.gz, zip...\n",
    "\n",
    "# Configuration : XML, JSON, YAML, Dataclass (id, pw나 기타 등등 자주 바뀌는 변수들을 담아놓은 별도의 공간) \n",
    "\n",
    "# 위 키워드로 검색해서 구글에서 많이 읽어보세요~~\n",
    "# 특히 SSH, SCP 명령어 잘 기억해놓으세요."
   ]
  },
  {
   "cell_type": "code",
   "execution_count": null,
   "metadata": {},
   "outputs": [],
   "source": [
    "# 1. 다운 받은 prediction을 서버로 이동시킴(SCP 활용)\n",
    "# 2. 다운 받은 prediction을 압축 해제함(unzip 활용)\n",
    "# 3. R package build using terminal\n",
    "# 4. R script run using terminal\n",
    "# 5. Include everything in python with os module\n",
    "# 6. Run in terminal!"
   ]
  },
  {
   "cell_type": "code",
   "execution_count": null,
   "metadata": {},
   "outputs": [],
   "source": [
    "# 1. SCP to server\n",
    "\n"
   ]
  },
  {
   "cell_type": "code",
   "execution_count": null,
   "metadata": {},
   "outputs": [],
   "source": [
    "# 2. unzip zipfile"
   ]
  },
  {
   "cell_type": "code",
   "execution_count": null,
   "metadata": {},
   "outputs": [],
   "source": [
    "# 3. R package build\n"
   ]
  },
  {
   "cell_type": "code",
   "execution_count": null,
   "metadata": {},
   "outputs": [],
   "source": [
    "# 4. R script configuration & Rscript run"
   ]
  },
  {
   "cell_type": "code",
   "execution_count": null,
   "metadata": {},
   "outputs": [],
   "source": [
    "# 5. 다모여"
   ]
  },
  {
   "cell_type": "code",
   "execution_count": null,
   "metadata": {},
   "outputs": [],
   "source": [
    "# 숙제 : \n",
    "# \t다운로드 받은 패키지를 서버로 옮겨서 실행해서 결과까지 확인하는 코드 작성\n",
    "#\t이전 시간에 작성한 Feedernet or ATLAS 코드와 이어지도록 코드 작성해서 순수 파이썬으로 패키지 다운받고 서버로 보내서 실행할 수 있도록 코드 작성"
   ]
  }
 ],
 "metadata": {
  "language_info": {
   "name": "python"
  },
  "orig_nbformat": 4
 },
 "nbformat": 4,
 "nbformat_minor": 2
}
